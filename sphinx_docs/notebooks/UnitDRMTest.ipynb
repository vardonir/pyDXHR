{
 "cells": [
  {
   "cell_type": "code",
   "execution_count": 7,
   "metadata": {
    "collapsed": true,
    "ExecuteTime": {
     "start_time": "2023-05-08T11:51:30.231103Z",
     "end_time": "2023-05-08T11:51:35.837710Z"
    }
   },
   "outputs": [
    {
     "name": "stderr",
     "output_type": "stream",
     "text": [
      "Reading IMF data: 100%|██████████| 309/309 [00:00<00:00, 19687.98it/s]\n",
      "Reading OBJ data: 100%|██████████| 122/122 [00:00<00:00, 7811.22it/s]\n",
      "Reading stream objects: 100%|██████████| 3/3 [00:00<?, ?it/s]\n"
     ]
    }
   ],
   "source": [
    "sample_file = r\"det_city_tunnel1.drm\"\n",
    "\n",
    "from pyDXHR.cdcEngine.Archive import Archive\n",
    "from pyDXHR.cdcEngine.DRM.UnitDRM import UnitDRM\n",
    "from pyDXHR.cdcEngine.Sections import RenderMesh\n",
    "\n",
    "arc = Archive()\n",
    "arc.deserialize_from_file(r\"F:\\DXHR\\BIGFILE.000\")\n",
    "\n",
    "data = arc.get_from_filename(sample_file)\n",
    "drm = UnitDRM(\n",
    "    uniform_scale=0.002,\n",
    "    z_up=True\n",
    ")\n",
    "drm.deserialize(\n",
    "    data,\n",
    "    archive=arc,\n",
    "    split_objects=True,\n",
    "    # imf=True,\n",
    "    # stream=True,\n",
    "    # obj=False,\n",
    "    # skip_ext_imf=True,\n",
    ")\n",
    "\n",
    "# pc_rm = RenderMesh.deserialize_drm(pc_base_drm)\n",
    "#\n",
    "# out_mesh = []\n",
    "# for mesh in pc_rm:\n",
    "#     out = mesh.to_gltf(as_bytes=True, blank_materials=True, apply_scale=True)\n",
    "#     out_mesh.append(out)\n",
    "#\n",
    "# import trimesh\n",
    "# from io import BytesIO\n",
    "#\n",
    "# data = [trimesh.load(BytesIO(m), file_type=\"glb\") for m in out_mesh]\n",
    "# scene = trimesh.Scene(data)\n",
    "# scene.show(flags={'axis': True})"
   ]
  },
  {
   "cell_type": "code",
   "execution_count": 8,
   "outputs": [],
   "source": [
    "import os\n",
    "os.environ[\"PYDXHR_MATLIB\"] = r\"C:\\Users\\vardo\\DXHR_Research\\pyDXHR_public\\external\\material_library\"\n",
    "os.environ[\"PYDXHR_TEXLIB\"] = r\"C:\\Users\\vardo\\DXHR_Research\\pyDXHR_public\\external\\texture_library\""
   ],
   "metadata": {
    "collapsed": false,
    "ExecuteTime": {
     "start_time": "2023-05-08T11:51:53.989541Z",
     "end_time": "2023-05-08T11:51:53.999080Z"
    }
   }
  },
  {
   "cell_type": "code",
   "execution_count": null,
   "outputs": [
    {
     "name": "stderr",
     "output_type": "stream",
     "text": [
      "Processing stream objects:   0%|          | 0/2 [00:00<?, ?it/s]"
     ]
    }
   ],
   "source": [
    "import tempfile\n",
    "from pathlib import Path\n",
    "import trimesh\n",
    "\n",
    "with tempfile.TemporaryDirectory() as td:\n",
    "    drm.to_gltf(save_to=fr\"{td}\\{sample_file}\",\n",
    "               blank_materials=False)\n",
    "\n",
    "    out_file = Path(td) / (Path(sample_file).name + \".gltf\")\n",
    "\n",
    "    data = trimesh.load(out_file, file_type=\"gltf\")\n",
    "    scene = trimesh.Scene(data)\n",
    "    scene.show(flags={'axis': True})"
   ],
   "metadata": {
    "collapsed": false,
    "ExecuteTime": {
     "start_time": "2023-05-08T11:47:21.433843Z",
     "end_time": "2023-05-08T11:47:21.443748Z"
    }
   }
  },
  {
   "cell_type": "code",
   "execution_count": null,
   "outputs": [],
   "source": [],
   "metadata": {
    "collapsed": false
   }
  }
 ],
 "metadata": {
  "kernelspec": {
   "display_name": "Python 3",
   "language": "python",
   "name": "python3"
  },
  "language_info": {
   "codemirror_mode": {
    "name": "ipython",
    "version": 2
   },
   "file_extension": ".py",
   "mimetype": "text/x-python",
   "name": "python",
   "nbconvert_exporter": "python",
   "pygments_lexer": "ipython2",
   "version": "2.7.6"
  }
 },
 "nbformat": 4,
 "nbformat_minor": 0
}
