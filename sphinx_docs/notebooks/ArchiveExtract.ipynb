{
 "cells": [
  {
   "attachments": {},
   "cell_type": "markdown",
   "metadata": {
    "collapsed": false
   },
   "source": [
    "# Archive Extraction"
   ]
  },
  {
   "attachments": {},
   "cell_type": "markdown",
   "metadata": {},
   "source": [
    "Using a bigfile in the PATH. This method is intended for accessing data from one version of the game"
   ]
  },
  {
   "cell_type": "code",
   "execution_count": 1,
   "metadata": {
    "collapsed": false,
    "pycharm": {
     "is_executing": true
    }
   },
   "outputs": [],
   "source": [
    "import os\n",
    "os.environ[\"PYDXHR_BIGFILE\"] = r\"PATH/TO/BIGFILE.000\""
   ]
  },
  {
   "attachments": {},
   "cell_type": "markdown",
   "metadata": {},
   "source": [
    "Unpack the files to a specific path. The unpacker tries to imitate the output produced by Gibbed's DXHR unpacker, but it's not yet complete."
   ]
  },
  {
   "cell_type": "code",
   "execution_count": 22,
   "metadata": {
    "collapsed": false
   },
   "outputs": [
    {
     "name": "stderr",
     "output_type": "stream",
     "text": [
      "Processing archive entries: 100%|██████████| 15974/15974 [10:03<00:00, 26.47it/s] \n"
     ]
    }
   ],
   "source": [
    "from pyDXHR.cdcEngine.Archive import Archive\n",
    "from pyDXHR.Export.ArchiveUnpack import unpack_archive\n",
    "\n",
    "arc = Archive()\n",
    "arc.deserialize_from_env()\n",
    "\n",
    "unpacked_destination_path = r\"DESTINATION/PATH\"\n",
    "file_list = r\"PATH/TO/REPO/external/filelist/generic.txt\"\n",
    "unpack_archive(archive=arc, dest_path=unpacked_destination_path, file_list=file_list)"
   ]
  },
  {
   "attachments": {},
   "cell_type": "markdown",
   "metadata": {},
   "source": [
    "Using bigfiles in specific paths. This is used for accessing and comparing data across different versions of the game"
   ]
  },
  {
   "cell_type": "code",
   "execution_count": 17,
   "metadata": {},
   "outputs": [],
   "source": [
    "pc_base = Archive()\n",
    "pc_base.deserialize_from_file(r\".......\\PC_BASE\\BIGFILE.000\")\n",
    "\n",
    "pc_directorscut = Archive()\n",
    "pc_directorscut.deserialize_from_file(r\".......\\PC_DC\\BIGFILE.000\")\n",
    "\n",
    "ps3_base_cache = Archive() \n",
    "ps3_base_cache.deserialize_from_file(r\".......\\PS3_BASE\\CACHE.000\")\n",
    "\n",
    "ps3_base_bigfile = Archive()\n",
    "ps3_base_bigfile.deserialize_from_file(r\".......\\PS3_BASE\\BIGFILE.000\")\n",
    "\n",
    "ps3_directorscut_cache = Archive()\n",
    "ps3_directorscut_cache.deserialize_from_file(r\".......\\PS3_DC\\CACHE.000\")\n",
    "\n",
    "ps3_directorscut_bigfile = Archive()\n",
    "ps3_directorscut_bigfile.deserialize_from_file(r\".......\\PS3_DC\\BIGFILE.000\")\n",
    "\n",
    "xbox_base_bigfile = Archive()\n",
    "xbox_base_bigfile.deserialize_from_file(r\".......\\XBOX_BASE\\BIGFILE.000\")\n",
    "\n",
    "xbox_base_cache = Archive()\n",
    "xbox_base_cache.deserialize_from_file(r\".......\\XBOX_BASE\\CACHE.000\")"
   ]
  },
  {
   "attachments": {},
   "cell_type": "markdown",
   "metadata": {},
   "source": [
    "Comparing the number of entries - The console versions + the base PC version both separate the game's voice files from everything else. "
   ]
  },
  {
   "cell_type": "code",
   "execution_count": 20,
   "metadata": {},
   "outputs": [
    {
     "name": "stdout",
     "output_type": "stream",
     "text": [
      "\n",
      "Number of entries per game:\n",
      "PC Base: 15974\n",
      "PC Director's Cut: 103372\n",
      "PS3 Base: 30175\n",
      "PS3 Director's Cut: 66169\n",
      "XBOX Base: 30178\n",
      "\n",
      "\n",
      "Game data only:\n",
      "PS3 Base: 13400\n",
      "PS3 Director's Cut: 13754\n",
      "\n",
      "\n",
      "Voice data only:\n",
      "PS3 Base: 16775\n",
      "PS3 Director's Cut: 52415\n",
      "\n"
     ]
    }
   ],
   "source": [
    "print(f\"\"\"\n",
    "Number of entries per game:\n",
    "PC Base: {len(pc_base.Entries)}\n",
    "PC Director's Cut: {len(pc_directorscut.Entries)}\n",
    "PS3 Base: {len(ps3_base_bigfile.Entries) + len(ps3_base_cache.Entries)}\n",
    "PS3 Director's Cut: {len(ps3_directorscut_bigfile.Entries) + len(ps3_directorscut_cache.Entries)}\n",
    "XBOX Base: {len(xbox_base_cache.Entries) + len(xbox_base_bigfile.Entries)}\n",
    "\"\"\")\n",
    "\n",
    "print(f\"\"\"\n",
    "Game data only:\n",
    "PS3 Base: {len(ps3_base_cache.Entries)}\n",
    "PS3 Director's Cut: {len(ps3_directorscut_cache.Entries)}\n",
    "\"\"\")\n",
    "\n",
    "print(f\"\"\"\n",
    "Voice data only:\n",
    "PS3 Base: {len(ps3_base_bigfile.Entries)}\n",
    "PS3 Director's Cut: {len(ps3_directorscut_bigfile.Entries)}\n",
    "\"\"\")\n"
   ]
  },
  {
   "attachments": {},
   "cell_type": "markdown",
   "metadata": {},
   "source": [
    "DRM comparison"
   ]
  },
  {
   "cell_type": "code",
   "execution_count": 23,
   "metadata": {},
   "outputs": [
    {
     "data": {
      "text/plain": [
       "True"
      ]
     },
     "execution_count": 23,
     "metadata": {},
     "output_type": "execute_result"
    }
   ],
   "source": [
    "for_comparison = r\"imf\\imf_architecture\\imf_interior\\imf_detroit\\imf_sarif_industries\\imf_sarif_office\\sarif_office_globe\\sarif_office_globe.drm\"\n",
    "\n",
    "from pyDXHR.cdcEngine.DRM.DRMFile import DRM\n",
    "\n",
    "pc_base_raw_data = pc_base.get_from_filename(for_comparison)\n",
    "pc_base_drm = DRM()\n",
    "pc_base_drm.deserialize(pc_base_raw_data)\n",
    "\n",
    "pc_dc_raw_data = pc_directorscut.get_from_filename(for_comparison)\n",
    "pc_dc_drm = DRM()\n",
    "pc_dc_drm.deserialize(pc_dc_raw_data)\n",
    "\n",
    "ps3_base_raw_data = ps3_base_cache.get_from_filename(for_comparison)\n",
    "ps3_base_drm = DRM()\n",
    "ps3_base_drm.deserialize(ps3_base_raw_data)"
   ]
  },
  {
   "attachments": {},
   "cell_type": "markdown",
   "metadata": {},
   "source": [
    "Comparing the individual sections:"
   ]
  },
  {
   "cell_type": "code",
   "execution_count": 28,
   "metadata": {},
   "outputs": [
    {
     "name": "stdout",
     "output_type": "stream",
     "text": [
      "PS3 base sections\n",
      "000079ec : 2160 bytes : Material | Unknown18\n",
      "000079ed : 2160 bytes : Material | Unknown18\n",
      "000079ee : 2160 bytes : Material | Unknown18\n",
      "000079ef : 2144 bytes : Material | Unknown18\n",
      "00001140 : 87428 bytes : RenderResource | Texture\n",
      "00001141 : 5508 bytes : RenderResource | Texture\n",
      "00001142 : 43780 bytes : RenderResource | Texture\n",
      "000079f0 : 144 bytes : RenderMesh | RenderModel\n",
      "000079f1 : 75472 bytes : RenderMesh | RenderModelBuffer\n",
      "000077a0 : 20 bytes : DTPData | Generic\n",
      "00006bfc : 2816 bytes : Material | Unknown18\n",
      "00000f37 : 174812 bytes : RenderResource | Texture\n",
      "00000f38 : 10972 bytes : RenderResource | Texture\n"
     ]
    }
   ],
   "source": [
    "print(\"PS3 base sections\")\n",
    "for s in ps3_base_drm.Sections:\n",
    "    print(s)"
   ]
  },
  {
   "cell_type": "code",
   "execution_count": 29,
   "metadata": {},
   "outputs": [
    {
     "name": "stdout",
     "output_type": "stream",
     "text": [
      "PC base sections\n",
      "0000780d : 2160 bytes : Material | Unknown18\n",
      "0000780d : 2832 bytes : Material | Unknown18\n",
      "0000780e : 2160 bytes : Material | Unknown18\n",
      "0000780e : 2832 bytes : Material | Unknown18\n",
      "0000780f : 2160 bytes : Material | Unknown18\n",
      "0000780f : 2832 bytes : Material | Unknown18\n",
      "00007810 : 2144 bytes : Material | Unknown18\n",
      "00007810 : 2816 bytes : Material | Unknown18\n",
      "00001260 : 87420 bytes : RenderResource | Texture\n",
      "00001261 : 5500 bytes : RenderResource | Texture\n",
      "00001262 : 43772 bytes : RenderResource | Texture\n",
      "00007811 : 115248 bytes : RenderMesh | RenderModel\n",
      "0000765c : 20 bytes : DTPData | Generic\n",
      "00006c51 : 2816 bytes : Material | Unknown18\n",
      "00006c51 : 3488 bytes : Material | Unknown18\n",
      "0000105b : 174804 bytes : RenderResource | Texture\n",
      "0000105c : 10964 bytes : RenderResource | Texture\n"
     ]
    }
   ],
   "source": [
    "print(\"PC base sections\")\n",
    "for s in pc_base_drm.Sections:\n",
    "    print(s)"
   ]
  },
  {
   "cell_type": "code",
   "execution_count": 30,
   "metadata": {},
   "outputs": [
    {
     "name": "stdout",
     "output_type": "stream",
     "text": [
      "PC DC sections\n",
      "00007a33 : 2160 bytes : Material | Unknown18\n",
      "00007a33 : 2832 bytes : Material | Unknown18\n",
      "00007a34 : 2160 bytes : Material | Unknown18\n",
      "00007a34 : 2832 bytes : Material | Unknown18\n",
      "00007a35 : 2160 bytes : Material | Unknown18\n",
      "00007a35 : 2832 bytes : Material | Unknown18\n",
      "00007a36 : 2144 bytes : Material | Unknown18\n",
      "00007a36 : 2816 bytes : Material | Unknown18\n",
      "0000127a : 87420 bytes : RenderResource | Texture\n",
      "0000127b : 5500 bytes : RenderResource | Texture\n",
      "0000127c : 43772 bytes : RenderResource | Texture\n",
      "00000057 : 724 bytes : RenderResource | Texture\n",
      "0000005d : 2772 bytes : RenderResource | Texture\n",
      "00000061 : 36 bytes : RenderResource | Texture\n",
      "00007a37 : 115248 bytes : RenderMesh | RenderModel\n",
      "00007882 : 20 bytes : DTPData | Generic\n",
      "00006dd5 : 3344 bytes : Material | Unknown18\n",
      "00006dd5 : 4016 bytes : Material | Unknown18\n",
      "00001070 : 174804 bytes : RenderResource | Texture\n",
      "00001071 : 10964 bytes : RenderResource | Texture\n"
     ]
    }
   ],
   "source": [
    "print(\"PC DC sections\")\n",
    "for s in pc_dc_drm.Sections:\n",
    "    print(s)"
   ]
  },
  {
   "attachments": {},
   "cell_type": "markdown",
   "metadata": {},
   "source": [
    "Notes:\n",
    "* PS3 texture headers are slightly smaller than the PC textures\n",
    "* Both PC versions have twice more materials compared to the PS3 version. I think this is because DX9 and DX11 handle them differently?\n",
    "* The same file has more textures attached to it in the DC version compared to the base version. One of the smaller-sized textures in the DC version is the generic flat black material."
   ]
  }
 ],
 "metadata": {
  "kernelspec": {
   "display_name": "Python 3",
   "language": "python",
   "name": "python3"
  },
  "language_info": {
   "codemirror_mode": {
    "name": "ipython",
    "version": 3
   },
   "file_extension": ".py",
   "mimetype": "text/x-python",
   "name": "python",
   "nbconvert_exporter": "python",
   "pygments_lexer": "ipython3",
   "version": "3.10.1"
  }
 },
 "nbformat": 4,
 "nbformat_minor": 0
}
