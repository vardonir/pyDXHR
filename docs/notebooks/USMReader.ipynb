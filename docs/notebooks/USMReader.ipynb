{
 "cells": [
  {
   "cell_type": "markdown",
   "metadata": {
    "collapsed": false
   },
   "source": [
    "# USM Read / Demux"
   ]
  },
  {
   "cell_type": "code",
   "execution_count": 5,
   "metadata": {
    "collapsed": true
   },
   "outputs": [],
   "source": [
    "import sys\n",
    "sys.path.append(\"../../src/pyDXHR\")\n",
    "\n",
    "from pyDXHR.cdcEngine.Archive import Archive\n",
    "\n",
    "pc_dc = r\"PATH\\TO\\YOUR\\DXHRDC\\INSTALL\\BIGFILE.000\"\n",
    "\n",
    "arc = Archive()\n",
    "arc.deserialize_from_file(pc_dc)\n",
    "\n",
    "usm_path = r\"design_database\\videos\\cinematics\\final_cinematics\\cut_01_shq0_3_woundedheroreturns\\dxni_115_v10-woundedheroreturns.usm\""
   ]
  },
  {
   "cell_type": "code",
   "execution_count": null,
   "metadata": {
    "collapsed": false
   },
   "outputs": [],
   "source": [
    "from wannacri.usm.usm import Usm\n",
    "\n"
   ]
  }
 ],
 "metadata": {
  "kernelspec": {
   "display_name": "Python 3",
   "language": "python",
   "name": "python3"
  },
  "language_info": {
   "codemirror_mode": {
    "name": "ipython",
    "version": 2
   },
   "file_extension": ".py",
   "mimetype": "text/x-python",
   "name": "python",
   "nbconvert_exporter": "python",
   "pygments_lexer": "ipython2",
   "version": "2.7.6"
  }
 },
 "nbformat": 4,
 "nbformat_minor": 0
}
